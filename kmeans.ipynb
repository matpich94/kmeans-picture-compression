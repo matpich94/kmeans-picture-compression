{
 "cells": [
  {
   "cell_type": "code",
   "execution_count": null,
   "metadata": {},
   "outputs": [],
   "source": [
    "import os\n",
    "from PIL import Image as img\n",
    "import matplotlib.pyplot as plt\n",
    "import numpy as np\n",
    "import time\n",
    "from sklearn.cluster import KMeans\n",
    "from sklearn.cluster import MiniBatchKMeans"
   ]
  },
  {
   "cell_type": "markdown",
   "metadata": {},
   "source": [
    "#### Import the image to be compressed"
   ]
  },
  {
   "cell_type": "code",
   "execution_count": null,
   "metadata": {},
   "outputs": [],
   "source": [
    "image = img.open(os.path.abspath(\".\")  + '\\input_picture.jpg')\n",
    "image_array = np.array(image)\n",
    "image_vector = np.reshape(image_array,(image_array.shape[0]*image_array.shape[1],image_array.shape[2])) \n"
   ]
  },
  {
   "cell_type": "markdown",
   "metadata": {},
   "source": [
    "#### Apply k-means algorithm  to the input vectorized image\n"
   ]
  },
  {
   "cell_type": "code",
   "execution_count": null,
   "metadata": {},
   "outputs": [],
   "source": [
    "number_kmeans = 2 # Define the number of k-means\n",
    "t_start = time.time() \n",
    "kmeans = MiniBatchKMeans(n_clusters = number_kmeans,random_state = np.random.RandomState(0), max_iter = 15).fit(image_vector) # Compute the k-means\n",
    "print('k_means computed in {} s'.format(round(time.time()-t_start, 2)))"
   ]
  },
  {
   "cell_type": "markdown",
   "metadata": {},
   "source": [
    "#### Assign each pixel of the input image to the corresponding centroid obtained with the kmeans algorithm"
   ]
  },
  {
   "cell_type": "code",
   "execution_count": null,
   "metadata": {},
   "outputs": [],
   "source": [
    "compressed_vector = kmeans.predict(image_vector) #Compute the new vectors (label to centroid)\n",
    "new_vector = np.zeros((len(compressed_vector),3)) # Final vector with value of centroids\n",
    "\n",
    "for i in range (len(new_vector)):\n",
    "    for j in range (number_kmeans):\n",
    "        if compressed_vector[i] == j:\n",
    "            new_vector[i]=kmeans.cluster_centers_[j] #Assign the value of the centroid to the point\n",
    "            \n",
    "new_vector__reshape = np.reshape(new_vector,(image_array.shape[0],image_array.shape[1],3)) # Reshape for the image\n",
    "new_vector_reshape_uint8 = new_vector__reshape.astype(np.uint8) #Convert in unt8\n",
    "image_compressed = img.fromarray(new_vector_reshape_uint8)"
   ]
  },
  {
   "cell_type": "markdown",
   "metadata": {},
   "source": [
    "#### Show and save the two images"
   ]
  },
  {
   "cell_type": "code",
   "execution_count": null,
   "metadata": {},
   "outputs": [],
   "source": [
    "f = plt.figure(figsize=(10,10))\n",
    "f.add_subplot(1,2, 1)\n",
    "plt.imshow(image)\n",
    "f.add_subplot(1,2, 2)\n",
    "plt.imshow(image_compressed)\n",
    "plt.show(block=True)\n",
    "f.savefig('comparison_images.jpg')\n",
    "plt.close(f)"
   ]
  }
 ],
 "metadata": {
  "kernelspec": {
   "display_name": "Python 3",
   "language": "python",
   "name": "python3"
  },
  "language_info": {
   "codemirror_mode": {
    "name": "ipython",
    "version": 3
   },
   "file_extension": ".py",
   "mimetype": "text/x-python",
   "name": "python",
   "nbconvert_exporter": "python",
   "pygments_lexer": "ipython3",
   "version": "3.7.2"
  }
 },
 "nbformat": 4,
 "nbformat_minor": 2
}
