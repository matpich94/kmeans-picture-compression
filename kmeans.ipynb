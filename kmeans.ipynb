{
 "cells": [
  {
   "cell_type": "code",
   "execution_count": 12,
   "metadata": {},
   "outputs": [],
   "source": [
    "import os\n",
    "from PIL import Image as img\n",
    "import numpy as np\n",
    "import time\n",
    "from sklearn.cluster import KMeans\n",
    "from sklearn.cluster import MiniBatchKMeans"
   ]
  },
  {
   "cell_type": "code",
   "execution_count": 17,
   "metadata": {},
   "outputs": [],
   "source": [
    "image=img.open(os.path.abspath(\".\")  + '\\picasso.jpg') #Open the image\n",
    "image_array = np.array(image) # Convert the image in an array\n",
    "image_vector = np.reshape(image_array,(image_array.shape[0]*image_array.shape[1],image_array.shape[2])) # Reshape the array for the k-means\n",
    "number_kmeans = 2 # Define the number of k-means"
   ]
  },
  {
   "cell_type": "code",
   "execution_count": 18,
   "metadata": {},
   "outputs": [
    {
     "name": "stdout",
     "output_type": "stream",
     "text": [
      "k-Means computed in 3.928 s\n"
     ]
    }
   ],
   "source": [
    "t0 = time.time() \n",
    "kmeans = MiniBatchKMeans(n_clusters=number_kmeans,random_state=np.random.RandomState(0), max_iter= 15).fit(image_vector) # Compute the k-means\n",
    "print('k-Means computed in', round(time.time()-t0,3), 's')"
   ]
  },
  {
   "cell_type": "code",
   "execution_count": 19,
   "metadata": {},
   "outputs": [],
   "source": [
    "compressed_vector = kmeans.predict(image_vector) #Compute the new vectors (label to centroid)\n",
    "new_vector = np.zeros((len(compressed_vector),3)) # Final vector with value of centroids\n",
    "\n",
    "for i in range (len(new_vector)):\n",
    "    for j in range (number_kmeans):\n",
    "        if compressed_vector[i] == j:\n",
    "            new_vector[i]=kmeans.cluster_centers_[j] #Assign the value of the centroid to the point\n",
    "            \n",
    "new_vector__reshape = np.reshape(new_vector,(image_array.shape[0],image_array.shape[1],3)) # Reshape for the image\n",
    "new_vector_reshape_uint8 = new_vector__reshape.astype(np.uint8) #Convert in unt8\n",
    "image_compressed = img.fromarray(new_vector_reshape_uint8)"
   ]
  },
  {
   "cell_type": "code",
   "execution_count": 20,
   "metadata": {},
   "outputs": [],
   "source": [
    "image.show()\n",
    "image_compressed.show()\n",
    "#image_compressed.save('C:/Users/Mathieu Pichon/Documents/Etudes/2018_MOOC Udacity/MOOC Udacity/Machine Learning/DIVERS/Compression Image_Kmeans/new.jpg')\n"
   ]
  }
 ],
 "metadata": {
  "kernelspec": {
   "display_name": "Python 3",
   "language": "python",
   "name": "python3"
  },
  "language_info": {
   "codemirror_mode": {
    "name": "ipython",
    "version": 3
   },
   "file_extension": ".py",
   "mimetype": "text/x-python",
   "name": "python",
   "nbconvert_exporter": "python",
   "pygments_lexer": "ipython3",
   "version": "3.7.2"
  }
 },
 "nbformat": 4,
 "nbformat_minor": 2
}
